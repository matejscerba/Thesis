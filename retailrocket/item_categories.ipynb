{
 "cells": [
  {
   "cell_type": "markdown",
   "metadata": {},
   "source": [
    "## Categories"
   ]
  },
  {
   "cell_type": "code",
   "execution_count": 195,
   "metadata": {},
   "outputs": [],
   "source": [
    "import matplotlib.pyplot as plt\n",
    "import numpy as np\n",
    "import pandas as pd\n",
    "import pickle"
   ]
  },
  {
   "cell_type": "markdown",
   "metadata": {},
   "source": [
    "Each line of file `data/category_tree.csv` describes pair of categories. First category is child of the second one. parent category can be missing."
   ]
  },
  {
   "cell_type": "code",
   "execution_count": 196,
   "metadata": {},
   "outputs": [
    {
     "data": {
      "text/plain": [
       "[('1016', '213'),\n",
       " ('809', '169'),\n",
       " ('570', '9'),\n",
       " ('1691', '885'),\n",
       " ('536', '1691'),\n",
       " ('231', ''),\n",
       " ('542', '378'),\n",
       " ('1146', '542'),\n",
       " ('1140', '542'),\n",
       " ('1479', '1537')]"
      ]
     },
     "execution_count": 196,
     "metadata": {},
     "output_type": "execute_result"
    }
   ],
   "source": [
    "pairs = []\n",
    "with open(\"data/category_tree.csv\", \"r\") as file:\n",
    "    for line in file.readlines()[1:]:\n",
    "        tokens = line.strip().split(\",\")\n",
    "        pairs.append((tokens[0], tokens[1]))\n",
    "\n",
    "pairs[:10]"
   ]
  },
  {
   "cell_type": "code",
   "execution_count": 197,
   "metadata": {},
   "outputs": [
    {
     "data": {
      "text/plain": [
       "1670"
      ]
     },
     "execution_count": 197,
     "metadata": {},
     "output_type": "execute_result"
    }
   ],
   "source": [
    "categories = set()\n",
    "for child, parent in pairs:\n",
    "    categories.add(child)\n",
    "    categories.add(parent)\n",
    "\n",
    "len(categories)"
   ]
  },
  {
   "cell_type": "markdown",
   "metadata": {},
   "source": [
    "There are 1669 categories in the dataset (empty string category is in `categories`, but does not represent any category)."
   ]
  },
  {
   "cell_type": "code",
   "execution_count": 198,
   "metadata": {},
   "outputs": [
    {
     "data": {
      "text/plain": [
       "1698"
      ]
     },
     "execution_count": 198,
     "metadata": {},
     "output_type": "execute_result"
    }
   ],
   "source": [
    "max_cat = int(max(categories, key=lambda x: int(x) if x != \"\" else 0))\n",
    "max_cat"
   ]
  },
  {
   "cell_type": "markdown",
   "metadata": {},
   "source": [
    "The maximum category id is 1698.\n",
    "\n",
    "Since the maximum category ID is larger than the number of categories in the dataset, I will work with category IDs $[0,$`max_cat`$]$ (and a category with empty string as ID representing root of the category tree)."
   ]
  },
  {
   "cell_type": "code",
   "execution_count": 199,
   "metadata": {},
   "outputs": [],
   "source": [
    "categories = set([f\"{id}\" for id in range(max_cat + 1)])\n",
    "categories.add(\"\")"
   ]
  },
  {
   "cell_type": "code",
   "execution_count": 200,
   "metadata": {},
   "outputs": [
    {
     "name": "stdout",
     "output_type": "stream",
     "text": [
      "{'children': {'1302', '1107', '55', '1684', '968', '581', '872', '995', '736', '287'}, 'parent': ''}\n"
     ]
    }
   ],
   "source": [
    "root = \"\"\n",
    "to_process = set([root])\n",
    "rest = categories - to_process\n",
    "tree = {category: {} for category in categories}\n",
    "\n",
    "while len(to_process) > 0:\n",
    "    category = to_process.pop()\n",
    "    tree[category][\"children\"] = set()\n",
    "    for child, parent in pairs:\n",
    "        if child == category:\n",
    "            tree[category][\"parent\"] = parent\n",
    "        if parent == category:\n",
    "            tree[category][\"children\"].add(child)\n",
    "            to_process.add(child)\n",
    "\n",
    "print(tree[\"1600\"])"
   ]
  },
  {
   "cell_type": "markdown",
   "metadata": {},
   "source": [
    "`tree` is a dictionary describing category tree. There is a dictionary for every category, which contains set of its children and parent (if the category has a parent)."
   ]
  },
  {
   "cell_type": "markdown",
   "metadata": {},
   "source": [
    "Item properties are stored in files `data/item_properties_part1.csv` and `data/item_properties_part2.csv`. Each row contains timestamp representing when the item's property changed its value.\n",
    "\n",
    "All values in the `item_properties` file excluding `categoryid` and `available` properties were hashed. Value of the `categoryid` property contains item category identifier. Value of the `available` property contains availability of the item, i.e. 1 means the item was available, otherwise 0. All numerical values were marked with `n` char at the beginning, and have 3 digits precision after decimal point, e.g., `5` will become `n5.000`, `-3.67584` will become `n-3.675`. All words in text values were normalized (stemming procedure: https://en.wikipedia.org/wiki/Stemming) and hashed, numbers were processed as above, e.g. text `Hello world 2017!` will become `24214 44214 n2017.000`.\n",
    "\n",
    "-- <cite>https://www.kaggle.com/datasets/retailrocket/ecommerce-dataset</cite>"
   ]
  },
  {
   "cell_type": "code",
   "execution_count": 201,
   "metadata": {},
   "outputs": [
    {
     "data": {
      "text/html": [
       "<div>\n",
       "<style scoped>\n",
       "    .dataframe tbody tr th:only-of-type {\n",
       "        vertical-align: middle;\n",
       "    }\n",
       "\n",
       "    .dataframe tbody tr th {\n",
       "        vertical-align: top;\n",
       "    }\n",
       "\n",
       "    .dataframe thead th {\n",
       "        text-align: right;\n",
       "    }\n",
       "</style>\n",
       "<table border=\"1\" class=\"dataframe\">\n",
       "  <thead>\n",
       "    <tr style=\"text-align: right;\">\n",
       "      <th></th>\n",
       "      <th>timestamp</th>\n",
       "      <th>itemid</th>\n",
       "      <th>property</th>\n",
       "      <th>value</th>\n",
       "    </tr>\n",
       "  </thead>\n",
       "  <tbody>\n",
       "    <tr>\n",
       "      <th>5903679</th>\n",
       "      <td>1431226800000</td>\n",
       "      <td>317951</td>\n",
       "      <td>790</td>\n",
       "      <td>n32880.000</td>\n",
       "    </tr>\n",
       "    <tr>\n",
       "      <th>5668945</th>\n",
       "      <td>1431226800000</td>\n",
       "      <td>422842</td>\n",
       "      <td>480</td>\n",
       "      <td>1133979</td>\n",
       "    </tr>\n",
       "    <tr>\n",
       "      <th>314220</th>\n",
       "      <td>1431226800000</td>\n",
       "      <td>310185</td>\n",
       "      <td>776</td>\n",
       "      <td>103591</td>\n",
       "    </tr>\n",
       "    <tr>\n",
       "      <th>4170323</th>\n",
       "      <td>1431226800000</td>\n",
       "      <td>110973</td>\n",
       "      <td>112</td>\n",
       "      <td>679677</td>\n",
       "    </tr>\n",
       "    <tr>\n",
       "      <th>4170324</th>\n",
       "      <td>1431226800000</td>\n",
       "      <td>179597</td>\n",
       "      <td>available</td>\n",
       "      <td>0</td>\n",
       "    </tr>\n",
       "    <tr>\n",
       "      <th>8025843</th>\n",
       "      <td>1431226800000</td>\n",
       "      <td>260136</td>\n",
       "      <td>available</td>\n",
       "      <td>1</td>\n",
       "    </tr>\n",
       "    <tr>\n",
       "      <th>314210</th>\n",
       "      <td>1431226800000</td>\n",
       "      <td>138592</td>\n",
       "      <td>764</td>\n",
       "      <td>1285872</td>\n",
       "    </tr>\n",
       "    <tr>\n",
       "      <th>5668941</th>\n",
       "      <td>1431226800000</td>\n",
       "      <td>216269</td>\n",
       "      <td>364</td>\n",
       "      <td>336749</td>\n",
       "    </tr>\n",
       "    <tr>\n",
       "      <th>5668940</th>\n",
       "      <td>1431226800000</td>\n",
       "      <td>299944</td>\n",
       "      <td>764</td>\n",
       "      <td>1285872</td>\n",
       "    </tr>\n",
       "    <tr>\n",
       "      <th>5668939</th>\n",
       "      <td>1431226800000</td>\n",
       "      <td>146103</td>\n",
       "      <td>112</td>\n",
       "      <td>679677</td>\n",
       "    </tr>\n",
       "  </tbody>\n",
       "</table>\n",
       "</div>"
      ],
      "text/plain": [
       "             timestamp  itemid   property       value\n",
       "5903679  1431226800000  317951        790  n32880.000\n",
       "5668945  1431226800000  422842        480     1133979\n",
       "314220   1431226800000  310185        776      103591\n",
       "4170323  1431226800000  110973        112      679677\n",
       "4170324  1431226800000  179597  available           0\n",
       "8025843  1431226800000  260136  available           1\n",
       "314210   1431226800000  138592        764     1285872\n",
       "5668941  1431226800000  216269        364      336749\n",
       "5668940  1431226800000  299944        764     1285872\n",
       "5668939  1431226800000  146103        112      679677"
      ]
     },
     "execution_count": 201,
     "metadata": {},
     "output_type": "execute_result"
    }
   ],
   "source": [
    "properties = pd.concat([pd.read_csv(\"data/item_properties_part1.csv\"), pd.read_csv(\"data/item_properties_part2.csv\")])\n",
    "properties = properties.sort_values(\"timestamp\")\n",
    "properties[:10]"
   ]
  },
  {
   "cell_type": "code",
   "execution_count": 202,
   "metadata": {},
   "outputs": [
    {
     "data": {
      "text/plain": [
       "timestamp     int64\n",
       "itemid        int64\n",
       "property     object\n",
       "value        object\n",
       "dtype: object"
      ]
     },
     "execution_count": 202,
     "metadata": {},
     "output_type": "execute_result"
    }
   ],
   "source": [
    "properties.dtypes"
   ]
  },
  {
   "cell_type": "markdown",
   "metadata": {},
   "source": [
    "Should I convert itemid to string?"
   ]
  },
  {
   "cell_type": "code",
   "execution_count": 203,
   "metadata": {},
   "outputs": [
    {
     "data": {
      "text/plain": [
       "417053"
      ]
     },
     "execution_count": 203,
     "metadata": {},
     "output_type": "execute_result"
    }
   ],
   "source": [
    "len(properties[\"itemid\"].unique())"
   ]
  },
  {
   "cell_type": "markdown",
   "metadata": {},
   "source": [
    "There are 417,053 items."
   ]
  },
  {
   "cell_type": "code",
   "execution_count": 204,
   "metadata": {},
   "outputs": [
    {
     "data": {
      "text/html": [
       "<div>\n",
       "<style scoped>\n",
       "    .dataframe tbody tr th:only-of-type {\n",
       "        vertical-align: middle;\n",
       "    }\n",
       "\n",
       "    .dataframe tbody tr th {\n",
       "        vertical-align: top;\n",
       "    }\n",
       "\n",
       "    .dataframe thead th {\n",
       "        text-align: right;\n",
       "    }\n",
       "</style>\n",
       "<table border=\"1\" class=\"dataframe\">\n",
       "  <thead>\n",
       "    <tr style=\"text-align: right;\">\n",
       "      <th></th>\n",
       "      <th>timestamp</th>\n",
       "      <th>itemid</th>\n",
       "      <th>property</th>\n",
       "      <th>value</th>\n",
       "    </tr>\n",
       "  </thead>\n",
       "  <tbody>\n",
       "    <tr>\n",
       "      <th>5903679</th>\n",
       "      <td>1431226800000</td>\n",
       "      <td>317951</td>\n",
       "      <td>790</td>\n",
       "      <td>n32880.000</td>\n",
       "    </tr>\n",
       "    <tr>\n",
       "      <th>7891519</th>\n",
       "      <td>1431831600000</td>\n",
       "      <td>317951</td>\n",
       "      <td>790</td>\n",
       "      <td>n32880.000</td>\n",
       "    </tr>\n",
       "    <tr>\n",
       "      <th>6301247</th>\n",
       "      <td>1432436400000</td>\n",
       "      <td>317951</td>\n",
       "      <td>790</td>\n",
       "      <td>n34560.000</td>\n",
       "    </tr>\n",
       "    <tr>\n",
       "      <th>6897599</th>\n",
       "      <td>1433041200000</td>\n",
       "      <td>317951</td>\n",
       "      <td>790</td>\n",
       "      <td>n34560.000</td>\n",
       "    </tr>\n",
       "    <tr>\n",
       "      <th>6102463</th>\n",
       "      <td>1433646000000</td>\n",
       "      <td>317951</td>\n",
       "      <td>790</td>\n",
       "      <td>n30000.000</td>\n",
       "    </tr>\n",
       "    <tr>\n",
       "      <th>6698815</th>\n",
       "      <td>1434250800000</td>\n",
       "      <td>317951</td>\n",
       "      <td>790</td>\n",
       "      <td>n16920.000</td>\n",
       "    </tr>\n",
       "    <tr>\n",
       "      <th>7295167</th>\n",
       "      <td>1435460400000</td>\n",
       "      <td>317951</td>\n",
       "      <td>790</td>\n",
       "      <td>n16920.000</td>\n",
       "    </tr>\n",
       "    <tr>\n",
       "      <th>8487871</th>\n",
       "      <td>1436065200000</td>\n",
       "      <td>317951</td>\n",
       "      <td>790</td>\n",
       "      <td>n16800.000</td>\n",
       "    </tr>\n",
       "    <tr>\n",
       "      <th>7096383</th>\n",
       "      <td>1436670000000</td>\n",
       "      <td>317951</td>\n",
       "      <td>790</td>\n",
       "      <td>n16920.000</td>\n",
       "    </tr>\n",
       "    <tr>\n",
       "      <th>6500031</th>\n",
       "      <td>1437274800000</td>\n",
       "      <td>317951</td>\n",
       "      <td>790</td>\n",
       "      <td>n16920.000</td>\n",
       "    </tr>\n",
       "    <tr>\n",
       "      <th>8090303</th>\n",
       "      <td>1437879600000</td>\n",
       "      <td>317951</td>\n",
       "      <td>790</td>\n",
       "      <td>n16920.000</td>\n",
       "    </tr>\n",
       "    <tr>\n",
       "      <th>7692735</th>\n",
       "      <td>1438484400000</td>\n",
       "      <td>317951</td>\n",
       "      <td>790</td>\n",
       "      <td>n16920.000</td>\n",
       "    </tr>\n",
       "    <tr>\n",
       "      <th>8289087</th>\n",
       "      <td>1439089200000</td>\n",
       "      <td>317951</td>\n",
       "      <td>790</td>\n",
       "      <td>n16920.000</td>\n",
       "    </tr>\n",
       "    <tr>\n",
       "      <th>7493951</th>\n",
       "      <td>1439694000000</td>\n",
       "      <td>317951</td>\n",
       "      <td>790</td>\n",
       "      <td>n16920.000</td>\n",
       "    </tr>\n",
       "    <tr>\n",
       "      <th>8885439</th>\n",
       "      <td>1440298800000</td>\n",
       "      <td>317951</td>\n",
       "      <td>790</td>\n",
       "      <td>n16920.000</td>\n",
       "    </tr>\n",
       "    <tr>\n",
       "      <th>9084223</th>\n",
       "      <td>1440903600000</td>\n",
       "      <td>317951</td>\n",
       "      <td>790</td>\n",
       "      <td>n17520.000</td>\n",
       "    </tr>\n",
       "    <tr>\n",
       "      <th>9283007</th>\n",
       "      <td>1441508400000</td>\n",
       "      <td>317951</td>\n",
       "      <td>790</td>\n",
       "      <td>n18720.000</td>\n",
       "    </tr>\n",
       "    <tr>\n",
       "      <th>8686655</th>\n",
       "      <td>1442113200000</td>\n",
       "      <td>317951</td>\n",
       "      <td>790</td>\n",
       "      <td>n18720.000</td>\n",
       "    </tr>\n",
       "  </tbody>\n",
       "</table>\n",
       "</div>"
      ],
      "text/plain": [
       "             timestamp  itemid property       value\n",
       "5903679  1431226800000  317951      790  n32880.000\n",
       "7891519  1431831600000  317951      790  n32880.000\n",
       "6301247  1432436400000  317951      790  n34560.000\n",
       "6897599  1433041200000  317951      790  n34560.000\n",
       "6102463  1433646000000  317951      790  n30000.000\n",
       "6698815  1434250800000  317951      790  n16920.000\n",
       "7295167  1435460400000  317951      790  n16920.000\n",
       "8487871  1436065200000  317951      790  n16800.000\n",
       "7096383  1436670000000  317951      790  n16920.000\n",
       "6500031  1437274800000  317951      790  n16920.000\n",
       "8090303  1437879600000  317951      790  n16920.000\n",
       "7692735  1438484400000  317951      790  n16920.000\n",
       "8289087  1439089200000  317951      790  n16920.000\n",
       "7493951  1439694000000  317951      790  n16920.000\n",
       "8885439  1440298800000  317951      790  n16920.000\n",
       "9084223  1440903600000  317951      790  n17520.000\n",
       "9283007  1441508400000  317951      790  n18720.000\n",
       "8686655  1442113200000  317951      790  n18720.000"
      ]
     },
     "execution_count": 204,
     "metadata": {},
     "output_type": "execute_result"
    }
   ],
   "source": [
    "properties[(properties[\"itemid\"] == 317951) & (properties[\"property\"] == \"790\")]"
   ]
  },
  {
   "cell_type": "markdown",
   "metadata": {},
   "source": [
    "Item's properties change over time - table above describes property 790, which is believed to represent price, since it is the only purely numerical value in the dataset.\n",
    "\n",
    "-- <cite>https://www.kaggle.com/datasets/retailrocket/ecommerce-dataset/discussion/31717</cite>"
   ]
  },
  {
   "cell_type": "code",
   "execution_count": 205,
   "metadata": {},
   "outputs": [
    {
     "data": {
      "text/plain": [
       "1242"
      ]
     },
     "execution_count": 205,
     "metadata": {},
     "output_type": "execute_result"
    }
   ],
   "source": [
    "item_categories = np.sort(properties[(properties[\"property\"] == \"categoryid\")][\"value\"].unique())\n",
    "len(item_categories)"
   ]
  },
  {
   "cell_type": "markdown",
   "metadata": {},
   "source": [
    "There are 1242 categories containing at least one item."
   ]
  },
  {
   "cell_type": "code",
   "execution_count": 206,
   "metadata": {},
   "outputs": [
    {
     "data": {
      "text/html": [
       "<div>\n",
       "<style scoped>\n",
       "    .dataframe tbody tr th:only-of-type {\n",
       "        vertical-align: middle;\n",
       "    }\n",
       "\n",
       "    .dataframe tbody tr th {\n",
       "        vertical-align: top;\n",
       "    }\n",
       "\n",
       "    .dataframe thead th {\n",
       "        text-align: right;\n",
       "    }\n",
       "</style>\n",
       "<table border=\"1\" class=\"dataframe\">\n",
       "  <thead>\n",
       "    <tr style=\"text-align: right;\">\n",
       "      <th></th>\n",
       "      <th>timestamp</th>\n",
       "      <th>itemid</th>\n",
       "      <th>property</th>\n",
       "      <th>value</th>\n",
       "    </tr>\n",
       "  </thead>\n",
       "  <tbody>\n",
       "    <tr>\n",
       "      <th>8017211</th>\n",
       "      <td>1431226800000</td>\n",
       "      <td>134536</td>\n",
       "      <td>categoryid</td>\n",
       "      <td>181</td>\n",
       "    </tr>\n",
       "    <tr>\n",
       "      <th>3889190</th>\n",
       "      <td>1431226800000</td>\n",
       "      <td>453514</td>\n",
       "      <td>categoryid</td>\n",
       "      <td>181</td>\n",
       "    </tr>\n",
       "    <tr>\n",
       "      <th>7692011</th>\n",
       "      <td>1431226800000</td>\n",
       "      <td>85044</td>\n",
       "      <td>categoryid</td>\n",
       "      <td>181</td>\n",
       "    </tr>\n",
       "    <tr>\n",
       "      <th>4517715</th>\n",
       "      <td>1431831600000</td>\n",
       "      <td>156572</td>\n",
       "      <td>categoryid</td>\n",
       "      <td>181</td>\n",
       "    </tr>\n",
       "    <tr>\n",
       "      <th>1342558</th>\n",
       "      <td>1435460400000</td>\n",
       "      <td>176558</td>\n",
       "      <td>categoryid</td>\n",
       "      <td>181</td>\n",
       "    </tr>\n",
       "  </tbody>\n",
       "</table>\n",
       "</div>"
      ],
      "text/plain": [
       "             timestamp  itemid    property value\n",
       "8017211  1431226800000  134536  categoryid   181\n",
       "3889190  1431226800000  453514  categoryid   181\n",
       "7692011  1431226800000   85044  categoryid   181\n",
       "4517715  1431831600000  156572  categoryid   181\n",
       "1342558  1435460400000  176558  categoryid   181"
      ]
     },
     "execution_count": 206,
     "metadata": {},
     "output_type": "execute_result"
    }
   ],
   "source": [
    "properties[(properties[\"property\"] == \"categoryid\") & (properties[\"value\"] == \"181\")]"
   ]
  },
  {
   "cell_type": "markdown",
   "metadata": {},
   "source": [
    "Category `181` is not present in file `data/category_tree.csv`, but some items are assigned to it. This is the reason why I created categories with ID in $[0,$`max_cat`$]$."
   ]
  },
  {
   "cell_type": "code",
   "execution_count": 207,
   "metadata": {},
   "outputs": [
    {
     "data": {
      "text/html": [
       "<div>\n",
       "<style scoped>\n",
       "    .dataframe tbody tr th:only-of-type {\n",
       "        vertical-align: middle;\n",
       "    }\n",
       "\n",
       "    .dataframe tbody tr th {\n",
       "        vertical-align: top;\n",
       "    }\n",
       "\n",
       "    .dataframe thead th {\n",
       "        text-align: right;\n",
       "    }\n",
       "</style>\n",
       "<table border=\"1\" class=\"dataframe\">\n",
       "  <thead>\n",
       "    <tr style=\"text-align: right;\">\n",
       "      <th></th>\n",
       "      <th>timestamp</th>\n",
       "      <th>itemid</th>\n",
       "      <th>property</th>\n",
       "      <th>value</th>\n",
       "    </tr>\n",
       "  </thead>\n",
       "  <tbody>\n",
       "    <tr>\n",
       "      <th>8017211</th>\n",
       "      <td>1431226800000</td>\n",
       "      <td>134536</td>\n",
       "      <td>categoryid</td>\n",
       "      <td>181</td>\n",
       "    </tr>\n",
       "  </tbody>\n",
       "</table>\n",
       "</div>"
      ],
      "text/plain": [
       "             timestamp  itemid    property value\n",
       "8017211  1431226800000  134536  categoryid   181"
      ]
     },
     "execution_count": 207,
     "metadata": {},
     "output_type": "execute_result"
    }
   ],
   "source": [
    "properties[(properties[\"property\"] == \"categoryid\") & (properties[\"itemid\"] == 134536)]"
   ]
  },
  {
   "cell_type": "markdown",
   "metadata": {},
   "source": [
    "The `categoryid` property of item `134536` was not changed from `181`, so the category `181` still exists, but is simply not in the tree..."
   ]
  },
  {
   "cell_type": "code",
   "execution_count": 208,
   "metadata": {},
   "outputs": [],
   "source": [
    "categories = [f\"{cat}\" for cat in categories]\n",
    "items_in_categories = {\n",
    "    category: set() for category in categories\n",
    "}\n",
    "for index, row in properties[properties[\"property\"] == \"categoryid\"].iterrows():\n",
    "    items_in_categories[row[\"value\"]].add(row[\"itemid\"])\n"
   ]
  },
  {
   "cell_type": "markdown",
   "metadata": {},
   "source": [
    "`items_in_categories` is a dictionary containing set of items in each category."
   ]
  },
  {
   "cell_type": "code",
   "execution_count": 209,
   "metadata": {},
   "outputs": [
    {
     "name": "stdout",
     "output_type": "stream",
     "text": [
      "138592\n"
     ]
    }
   ],
   "source": [
    "for item in properties[\"itemid\"].unique():\n",
    "    if len(properties[\n",
    "            (properties[\"itemid\"] == item) &\n",
    "            (properties[\"property\"] == \"categoryid\")\n",
    "        ][\"value\"].unique()) > 1:\n",
    "        print(item)\n",
    "        break\n"
   ]
  },
  {
   "cell_type": "code",
   "execution_count": 210,
   "metadata": {},
   "outputs": [
    {
     "data": {
      "text/html": [
       "<div>\n",
       "<style scoped>\n",
       "    .dataframe tbody tr th:only-of-type {\n",
       "        vertical-align: middle;\n",
       "    }\n",
       "\n",
       "    .dataframe tbody tr th {\n",
       "        vertical-align: top;\n",
       "    }\n",
       "\n",
       "    .dataframe thead th {\n",
       "        text-align: right;\n",
       "    }\n",
       "</style>\n",
       "<table border=\"1\" class=\"dataframe\">\n",
       "  <thead>\n",
       "    <tr style=\"text-align: right;\">\n",
       "      <th></th>\n",
       "      <th>timestamp</th>\n",
       "      <th>itemid</th>\n",
       "      <th>property</th>\n",
       "      <th>value</th>\n",
       "    </tr>\n",
       "  </thead>\n",
       "  <tbody>\n",
       "    <tr>\n",
       "      <th>7886151</th>\n",
       "      <td>1431226800000</td>\n",
       "      <td>138592</td>\n",
       "      <td>categoryid</td>\n",
       "      <td>1613</td>\n",
       "    </tr>\n",
       "    <tr>\n",
       "      <th>8681283</th>\n",
       "      <td>1431831600000</td>\n",
       "      <td>138592</td>\n",
       "      <td>categoryid</td>\n",
       "      <td>1613</td>\n",
       "    </tr>\n",
       "    <tr>\n",
       "      <th>8084934</th>\n",
       "      <td>1432436400000</td>\n",
       "      <td>138592</td>\n",
       "      <td>categoryid</td>\n",
       "      <td>1613</td>\n",
       "    </tr>\n",
       "    <tr>\n",
       "      <th>8482500</th>\n",
       "      <td>1433041200000</td>\n",
       "      <td>138592</td>\n",
       "      <td>categoryid</td>\n",
       "      <td>1613</td>\n",
       "    </tr>\n",
       "    <tr>\n",
       "      <th>399295</th>\n",
       "      <td>1433646000000</td>\n",
       "      <td>138592</td>\n",
       "      <td>categoryid</td>\n",
       "      <td>1613</td>\n",
       "    </tr>\n",
       "    <tr>\n",
       "      <th>8283717</th>\n",
       "      <td>1434250800000</td>\n",
       "      <td>138592</td>\n",
       "      <td>categoryid</td>\n",
       "      <td>1613</td>\n",
       "    </tr>\n",
       "    <tr>\n",
       "      <th>7687368</th>\n",
       "      <td>1435460400000</td>\n",
       "      <td>138592</td>\n",
       "      <td>categoryid</td>\n",
       "      <td>1613</td>\n",
       "    </tr>\n",
       "    <tr>\n",
       "      <th>995644</th>\n",
       "      <td>1436065200000</td>\n",
       "      <td>138592</td>\n",
       "      <td>categoryid</td>\n",
       "      <td>1613</td>\n",
       "    </tr>\n",
       "    <tr>\n",
       "      <th>8880066</th>\n",
       "      <td>1436670000000</td>\n",
       "      <td>138592</td>\n",
       "      <td>categoryid</td>\n",
       "      <td>1613</td>\n",
       "    </tr>\n",
       "    <tr>\n",
       "      <th>1729</th>\n",
       "      <td>1437274800000</td>\n",
       "      <td>138592</td>\n",
       "      <td>categoryid</td>\n",
       "      <td>1613</td>\n",
       "    </tr>\n",
       "    <tr>\n",
       "      <th>1591993</th>\n",
       "      <td>1437879600000</td>\n",
       "      <td>138592</td>\n",
       "      <td>categoryid</td>\n",
       "      <td>1613</td>\n",
       "    </tr>\n",
       "    <tr>\n",
       "      <th>9078849</th>\n",
       "      <td>1438484400000</td>\n",
       "      <td>138592</td>\n",
       "      <td>categoryid</td>\n",
       "      <td>1613</td>\n",
       "    </tr>\n",
       "    <tr>\n",
       "      <th>200512</th>\n",
       "      <td>1439089200000</td>\n",
       "      <td>138592</td>\n",
       "      <td>categoryid</td>\n",
       "      <td>491</td>\n",
       "    </tr>\n",
       "    <tr>\n",
       "      <th>598078</th>\n",
       "      <td>1439694000000</td>\n",
       "      <td>138592</td>\n",
       "      <td>categoryid</td>\n",
       "      <td>491</td>\n",
       "    </tr>\n",
       "    <tr>\n",
       "      <th>1393210</th>\n",
       "      <td>1440298800000</td>\n",
       "      <td>138592</td>\n",
       "      <td>categoryid</td>\n",
       "      <td>491</td>\n",
       "    </tr>\n",
       "    <tr>\n",
       "      <th>1194427</th>\n",
       "      <td>1440903600000</td>\n",
       "      <td>138592</td>\n",
       "      <td>categoryid</td>\n",
       "      <td>491</td>\n",
       "    </tr>\n",
       "    <tr>\n",
       "      <th>796861</th>\n",
       "      <td>1441508400000</td>\n",
       "      <td>138592</td>\n",
       "      <td>categoryid</td>\n",
       "      <td>491</td>\n",
       "    </tr>\n",
       "    <tr>\n",
       "      <th>1790776</th>\n",
       "      <td>1442113200000</td>\n",
       "      <td>138592</td>\n",
       "      <td>categoryid</td>\n",
       "      <td>491</td>\n",
       "    </tr>\n",
       "  </tbody>\n",
       "</table>\n",
       "</div>"
      ],
      "text/plain": [
       "             timestamp  itemid    property value\n",
       "7886151  1431226800000  138592  categoryid  1613\n",
       "8681283  1431831600000  138592  categoryid  1613\n",
       "8084934  1432436400000  138592  categoryid  1613\n",
       "8482500  1433041200000  138592  categoryid  1613\n",
       "399295   1433646000000  138592  categoryid  1613\n",
       "8283717  1434250800000  138592  categoryid  1613\n",
       "7687368  1435460400000  138592  categoryid  1613\n",
       "995644   1436065200000  138592  categoryid  1613\n",
       "8880066  1436670000000  138592  categoryid  1613\n",
       "1729     1437274800000  138592  categoryid  1613\n",
       "1591993  1437879600000  138592  categoryid  1613\n",
       "9078849  1438484400000  138592  categoryid  1613\n",
       "200512   1439089200000  138592  categoryid   491\n",
       "598078   1439694000000  138592  categoryid   491\n",
       "1393210  1440298800000  138592  categoryid   491\n",
       "1194427  1440903600000  138592  categoryid   491\n",
       "796861   1441508400000  138592  categoryid   491\n",
       "1790776  1442113200000  138592  categoryid   491"
      ]
     },
     "execution_count": 210,
     "metadata": {},
     "output_type": "execute_result"
    }
   ],
   "source": [
    "properties[(properties[\"property\"] == \"categoryid\") & (properties[\"itemid\"] == 138592)]"
   ]
  },
  {
   "cell_type": "markdown",
   "metadata": {},
   "source": [
    "At least one item (`138592`) changed its category (from `1613` to `491`), so I must create `items_in_categories` differently in order to represent the latest state of dataset."
   ]
  },
  {
   "cell_type": "code",
   "execution_count": 211,
   "metadata": {},
   "outputs": [
    {
     "data": {
      "text/plain": [
       "True"
      ]
     },
     "execution_count": 211,
     "metadata": {},
     "output_type": "execute_result"
    }
   ],
   "source": [
    "len(properties[\"itemid\"].unique()) == len(properties[properties[\"property\"] == \"categoryid\"][\"itemid\"].unique())"
   ]
  },
  {
   "cell_type": "markdown",
   "metadata": {},
   "source": [
    "Every item has its category set."
   ]
  },
  {
   "cell_type": "code",
   "execution_count": 212,
   "metadata": {},
   "outputs": [
    {
     "name": "stdout",
     "output_type": "stream",
     "text": [
      "491\n"
     ]
    }
   ],
   "source": [
    "items = properties[\"itemid\"].unique()\n",
    "item_categories = {}\n",
    "for index, row in properties[properties[\"property\"] == \"categoryid\"].iterrows():\n",
    "    item_categories[row[\"itemid\"]] = row[\"value\"]\n",
    "\n",
    "print(item_categories[138592])"
   ]
  },
  {
   "cell_type": "markdown",
   "metadata": {},
   "source": [
    "`item_categories` contains latest category for each item."
   ]
  },
  {
   "cell_type": "code",
   "execution_count": 213,
   "metadata": {},
   "outputs": [
    {
     "data": {
      "text/plain": [
       "{85044, 134536, 156572, 176558, 453514}"
      ]
     },
     "execution_count": 213,
     "metadata": {},
     "output_type": "execute_result"
    }
   ],
   "source": [
    "items_in_categories = {\n",
    "    id: set() for id in categories\n",
    "}\n",
    "for item, category in item_categories.items():\n",
    "    items_in_categories[category].add(item)\n",
    "\n",
    "items_in_categories[\"181\"]"
   ]
  },
  {
   "cell_type": "markdown",
   "metadata": {},
   "source": [
    "`items_in_categories` contains set of items in each category."
   ]
  },
  {
   "cell_type": "code",
   "execution_count": 214,
   "metadata": {},
   "outputs": [],
   "source": [
    "x = categories\n",
    "y = [len(items_in_categories[cat]) for cat in x]"
   ]
  },
  {
   "cell_type": "markdown",
   "metadata": {},
   "source": [
    "`x` contains categories, `y` number of items in categories in the same order. These collections are later used for plotting."
   ]
  },
  {
   "cell_type": "code",
   "execution_count": 215,
   "metadata": {},
   "outputs": [
    {
     "name": "stdout",
     "output_type": "stream",
     "text": [
      "max:\n",
      "    17231 (Category 342)\n",
      "    10982 (Category 769)\n",
      "    10561 (Category 173)\n",
      "mean:   245.32529411764705\n"
     ]
    }
   ],
   "source": [
    "desc = np.argsort(y)[::-1]\n",
    "max_str = \"max:\"\n",
    "for index in desc[:3]:\n",
    "    max_str += f\"\\n    {y[index]} (Category {x[index]})\"\n",
    "print(max_str)\n",
    "print(f\"mean:   {np.mean(y)}\")"
   ]
  },
  {
   "cell_type": "markdown",
   "metadata": {},
   "source": [
    "The maximum number of items in a category is 17231, the mean of number of items in a category is 245.614."
   ]
  },
  {
   "cell_type": "code",
   "execution_count": 216,
   "metadata": {},
   "outputs": [
    {
     "data": {
      "image/png": "[encoded data removed]",
      "text/plain": [
       "<Figure size 640x480 with 1 Axes>"
      ]
     },
     "metadata": {},
     "output_type": "display_data"
    },
    {
     "data": {
      "image/png": "[encoded data removed]",
      "text/plain": [
       "<Figure size 640x480 with 1 Axes>"
      ]
     },
     "metadata": {},
     "output_type": "display_data"
    },
    {
     "data": {
      "image/png": "[encoded data removed]",
      "text/plain": [
       "<Figure size 640x480 with 1 Axes>"
      ]
     },
     "metadata": {},
     "output_type": "display_data"
    },
    {
     "data": {
      "image/png": "[encoded data removed]",
      "text/plain": [
       "<Figure size 640x480 with 1 Axes>"
      ]
     },
     "metadata": {},
     "output_type": "display_data"
    },
    {
     "data": {
      "image/png": "[encoded data removed]",
      "text/plain": [
       "<Figure size 640x480 with 1 Axes>"
      ]
     },
     "metadata": {},
     "output_type": "display_data"
    },
    {
     "data": {
      "image/png": "[encoded data removed]",
      "text/plain": [
       "<Figure size 640x480 with 1 Axes>"
      ]
     },
     "metadata": {},
     "output_type": "display_data"
    }
   ],
   "source": [
    "num_parts = 6\n",
    "part_size = len(x) // num_parts\n",
    "for part in range(num_parts):\n",
    "    fig, ax = plt.subplots(1)\n",
    "    start = part * part_size\n",
    "    if part == num_parts - 1:\n",
    "        ax.bar(x[start:], y[start:])\n",
    "    else:\n",
    "        ax.bar(x[start : start + part_size], y[start : start + part_size])\n",
    "    ax.set_xlabel(f\"Categories {x[start]} to {x[start + part_size - 1]}\")\n",
    "    ax.set_ylabel(\"Number of items\")\n",
    "    ax.set_xticks([])\n",
    "    ax.set_xticklabels([])\n",
    "    plt.ylim(0, max(y) + 500)\n",
    "    plt.show()"
   ]
  },
  {
   "cell_type": "markdown",
   "metadata": {},
   "source": [
    "Plots above show number of items in categories, in order to display bar graphs properly, the categories are split into 6 parts."
   ]
  }
 ],
 "metadata": {
  "kernelspec": {
   "display_name": "Python 3.10.6 ('Thesis')",
   "language": "python",
   "name": "python3"
  },
  "language_info": {
   "codemirror_mode": {
    "name": "ipython",
    "version": 3
   },
   "file_extension": ".py",
   "mimetype": "text/x-python",
   "name": "python",
   "nbconvert_exporter": "python",
   "pygments_lexer": "ipython3",
   "version": "3.10.6"
  },
  "orig_nbformat": 4,
  "vscode": {
   "interpreter": {
    "hash": "b0c093709e38220a1490c81b1b3cea994033d0e3cf39a06db777c8ccdd281880"
   }
  }
 },
 "nbformat": 4,
 "nbformat_minor": 2
}
