{
 "cells": [
  {
   "cell_type": "markdown",
   "metadata": {},
   "source": [
    "## Properties"
   ]
  },
  {
   "cell_type": "code",
   "execution_count": 2,
   "metadata": {},
   "outputs": [],
   "source": [
    "import matplotlib.pyplot as plt\n",
    "import numpy as np\n",
    "import os\n",
    "import pandas as pd\n",
    "import pickle"
   ]
  },
  {
   "cell_type": "code",
   "execution_count": 3,
   "metadata": {},
   "outputs": [
    {
     "data": {
      "text/html": [
       "<div>\n",
       "<style scoped>\n",
       "    .dataframe tbody tr th:only-of-type {\n",
       "        vertical-align: middle;\n",
       "    }\n",
       "\n",
       "    .dataframe tbody tr th {\n",
       "        vertical-align: top;\n",
       "    }\n",
       "\n",
       "    .dataframe thead th {\n",
       "        text-align: right;\n",
       "    }\n",
       "</style>\n",
       "<table border=\"1\" class=\"dataframe\">\n",
       "  <thead>\n",
       "    <tr style=\"text-align: right;\">\n",
       "      <th></th>\n",
       "      <th>timestamp</th>\n",
       "      <th>itemid</th>\n",
       "      <th>property</th>\n",
       "      <th>value</th>\n",
       "    </tr>\n",
       "  </thead>\n",
       "  <tbody>\n",
       "    <tr>\n",
       "      <th>5903679</th>\n",
       "      <td>1431226800000</td>\n",
       "      <td>317951</td>\n",
       "      <td>790</td>\n",
       "      <td>n32880.000</td>\n",
       "    </tr>\n",
       "    <tr>\n",
       "      <th>5668945</th>\n",
       "      <td>1431226800000</td>\n",
       "      <td>422842</td>\n",
       "      <td>480</td>\n",
       "      <td>1133979</td>\n",
       "    </tr>\n",
       "    <tr>\n",
       "      <th>314220</th>\n",
       "      <td>1431226800000</td>\n",
       "      <td>310185</td>\n",
       "      <td>776</td>\n",
       "      <td>103591</td>\n",
       "    </tr>\n",
       "    <tr>\n",
       "      <th>4170323</th>\n",
       "      <td>1431226800000</td>\n",
       "      <td>110973</td>\n",
       "      <td>112</td>\n",
       "      <td>679677</td>\n",
       "    </tr>\n",
       "    <tr>\n",
       "      <th>4170324</th>\n",
       "      <td>1431226800000</td>\n",
       "      <td>179597</td>\n",
       "      <td>available</td>\n",
       "      <td>0</td>\n",
       "    </tr>\n",
       "    <tr>\n",
       "      <th>8025843</th>\n",
       "      <td>1431226800000</td>\n",
       "      <td>260136</td>\n",
       "      <td>available</td>\n",
       "      <td>1</td>\n",
       "    </tr>\n",
       "    <tr>\n",
       "      <th>314210</th>\n",
       "      <td>1431226800000</td>\n",
       "      <td>138592</td>\n",
       "      <td>764</td>\n",
       "      <td>1285872</td>\n",
       "    </tr>\n",
       "    <tr>\n",
       "      <th>5668941</th>\n",
       "      <td>1431226800000</td>\n",
       "      <td>216269</td>\n",
       "      <td>364</td>\n",
       "      <td>336749</td>\n",
       "    </tr>\n",
       "    <tr>\n",
       "      <th>5668940</th>\n",
       "      <td>1431226800000</td>\n",
       "      <td>299944</td>\n",
       "      <td>764</td>\n",
       "      <td>1285872</td>\n",
       "    </tr>\n",
       "    <tr>\n",
       "      <th>5668939</th>\n",
       "      <td>1431226800000</td>\n",
       "      <td>146103</td>\n",
       "      <td>112</td>\n",
       "      <td>679677</td>\n",
       "    </tr>\n",
       "  </tbody>\n",
       "</table>\n",
       "</div>"
      ],
      "text/plain": [
       "             timestamp  itemid   property       value\n",
       "5903679  1431226800000  317951        790  n32880.000\n",
       "5668945  1431226800000  422842        480     1133979\n",
       "314220   1431226800000  310185        776      103591\n",
       "4170323  1431226800000  110973        112      679677\n",
       "4170324  1431226800000  179597  available           0\n",
       "8025843  1431226800000  260136  available           1\n",
       "314210   1431226800000  138592        764     1285872\n",
       "5668941  1431226800000  216269        364      336749\n",
       "5668940  1431226800000  299944        764     1285872\n",
       "5668939  1431226800000  146103        112      679677"
      ]
     },
     "execution_count": 3,
     "metadata": {},
     "output_type": "execute_result"
    }
   ],
   "source": [
    "properties = pd.concat([pd.read_csv(\"data/item_properties_part1.csv\"), pd.read_csv(\"data/item_properties_part2.csv\")])\n",
    "properties = properties.sort_values(\"timestamp\")\n",
    "properties[:10]"
   ]
  },
  {
   "cell_type": "code",
   "execution_count": 4,
   "metadata": {},
   "outputs": [],
   "source": [
    "categories = properties[\n",
    "    (properties[\"property\"] == \"categoryid\")\n",
    "][\"value\"].unique()"
   ]
  },
  {
   "cell_type": "code",
   "execution_count": 5,
   "metadata": {},
   "outputs": [],
   "source": [
    "items_in_categories = {\n",
    "    category: set() for category in categories\n",
    "}\n",
    "for index, row in properties[properties[\"property\"] == \"categoryid\"].iterrows():\n",
    "    items_in_categories[row[\"value\"]].add(row[\"itemid\"])"
   ]
  },
  {
   "cell_type": "code",
   "execution_count": 6,
   "metadata": {},
   "outputs": [
    {
     "data": {
      "text/plain": [
       "1104"
      ]
     },
     "execution_count": 6,
     "metadata": {},
     "output_type": "execute_result"
    }
   ],
   "source": [
    "len(properties[\"property\"].unique())"
   ]
  },
  {
   "cell_type": "markdown",
   "metadata": {},
   "source": [
    "There are 1104 properties in the dataset, so I will split dataset into categories in order to reduce number of properties of each item."
   ]
  },
  {
   "cell_type": "code",
   "execution_count": 7,
   "metadata": {},
   "outputs": [
    {
     "data": {
      "text/plain": [
       "array(['categoryid', '790', '112', '364', '6', '159', '283', '448', '678',\n",
       "       'available', '888', '764', '761', '172', '1036', '97', '202',\n",
       "       '1054', '120', '698', '561', '595', '227', '963', '839', '892'],\n",
       "      dtype=object)"
      ]
     },
     "execution_count": 7,
     "metadata": {},
     "output_type": "execute_result"
    }
   ],
   "source": [
    "file_path = \"category_properties\"\n",
    "try:\n",
    "    open(file_path, \"x\")\n",
    "except FileExistsError:\n",
    "    with open(file_path, \"rb\") as file:\n",
    "        category_properties = pickle.load(file)\n",
    "else:\n",
    "    category_properties = {}\n",
    "    for category, items in items_in_categories.items():\n",
    "        category_properties[category] = properties[\n",
    "            properties[\"itemid\"].isin(items)\n",
    "        ][\"property\"].unique()\n",
    "\n",
    "    with open(file_path, \"wb\") as file:\n",
    "        pickle.dump(category_properties, file)\n",
    "\n",
    "category_properties[\"181\"]"
   ]
  },
  {
   "cell_type": "markdown",
   "metadata": {},
   "source": [
    "`category_properties` contains array of properties for each category."
   ]
  },
  {
   "cell_type": "code",
   "execution_count": 8,
   "metadata": {},
   "outputs": [
    {
     "data": {
      "text/plain": [
       "{'112',\n",
       " '159',\n",
       " '283',\n",
       " '364',\n",
       " '678',\n",
       " '764',\n",
       " '790',\n",
       " '888',\n",
       " 'available',\n",
       " 'categoryid'}"
      ]
     },
     "execution_count": 8,
     "metadata": {},
     "output_type": "execute_result"
    }
   ],
   "source": [
    "properties_sets = [set(prop_list) for _, prop_list in category_properties.items() if len(prop_list) > 0]\n",
    "common_properties = set.intersection(*properties_sets)\n",
    "common_properties"
   ]
  },
  {
   "cell_type": "markdown",
   "metadata": {},
   "source": [
    "The properties above have values in every category."
   ]
  },
  {
   "cell_type": "code",
   "execution_count": 9,
   "metadata": {},
   "outputs": [],
   "source": [
    "# file_path = \"items\"\n",
    "# try:\n",
    "#     open(file_path, \"x\")\n",
    "# except FileExistsError:\n",
    "#     with open(file_path, \"rb\") as file:\n",
    "#         items = pickle.load(file)\n",
    "# else:\n",
    "#     items = {\n",
    "#         item: {} for item in properties[\"itemid\"].unique()\n",
    "#     }\n",
    "#     for index, row in properties.iterrows():\n",
    "#         items[row[\"itemid\"]][row[\"property\"]] = row[\"value\"]\n",
    "#     with open(file_path, \"wb\") as file:\n",
    "#         pickle.dump(items, file)\n"
   ]
  },
  {
   "cell_type": "markdown",
   "metadata": {},
   "source": [
    "`item` contains properties' names and their values for every item in the dataset."
   ]
  },
  {
   "cell_type": "code",
   "execution_count": 10,
   "metadata": {},
   "outputs": [],
   "source": [
    "try:\n",
    "    os.mkdir(\"categories\")\n",
    "except FileExistsError:\n",
    "    pass\n",
    "\n",
    "try:\n",
    "    open(\"categories/0.csv\", \"x\")\n",
    "except FileExistsError:\n",
    "    pass\n",
    "else:\n",
    "    for category, cat_props in category_properties.items():\n",
    "        data = {\n",
    "            property: [] for property in cat_props\n",
    "        }\n",
    "        for item in items_in_categories[category]:\n",
    "            for property in cat_props:\n",
    "                data[property].append(items[item].get(property, None))\n",
    "        pd.DataFrame(data).to_csv(f\"categories/{category}.csv\")\n"
   ]
  },
  {
   "cell_type": "markdown",
   "metadata": {},
   "source": [
    "The code snippet above generates `.csv` files describing items of each category. Only properties relevant for such a category are used. The dataframe is displayed below."
   ]
  },
  {
   "cell_type": "code",
   "execution_count": 29,
   "metadata": {},
   "outputs": [
    {
     "data": {
      "text/html": [
       "<div>\n",
       "<style scoped>\n",
       "    .dataframe tbody tr th:only-of-type {\n",
       "        vertical-align: middle;\n",
       "    }\n",
       "\n",
       "    .dataframe tbody tr th {\n",
       "        vertical-align: top;\n",
       "    }\n",
       "\n",
       "    .dataframe thead th {\n",
       "        text-align: right;\n",
       "    }\n",
       "</style>\n",
       "<table border=\"1\" class=\"dataframe\">\n",
       "  <thead>\n",
       "    <tr style=\"text-align: right;\">\n",
       "      <th></th>\n",
       "      <th>Unnamed: 0</th>\n",
       "      <th>categoryid</th>\n",
       "      <th>159</th>\n",
       "      <th>888</th>\n",
       "      <th>776</th>\n",
       "      <th>764</th>\n",
       "      <th>917</th>\n",
       "      <th>available</th>\n",
       "      <th>678</th>\n",
       "      <th>364</th>\n",
       "      <th>...</th>\n",
       "      <th>325</th>\n",
       "      <th>202</th>\n",
       "      <th>476</th>\n",
       "      <th>550</th>\n",
       "      <th>713</th>\n",
       "      <th>810</th>\n",
       "      <th>928</th>\n",
       "      <th>206</th>\n",
       "      <th>1097</th>\n",
       "      <th>674</th>\n",
       "    </tr>\n",
       "  </thead>\n",
       "  <tbody>\n",
       "    <tr>\n",
       "      <th>0</th>\n",
       "      <td>0</td>\n",
       "      <td>0</td>\n",
       "      <td>519769</td>\n",
       "      <td>34084 906385 n126.000 1175087 n318.000 1175087...</td>\n",
       "      <td>98587.0</td>\n",
       "      <td>1285872</td>\n",
       "      <td>n863064.000</td>\n",
       "      <td>0</td>\n",
       "      <td>479758 1021001</td>\n",
       "      <td>691063</td>\n",
       "      <td>...</td>\n",
       "      <td>NaN</td>\n",
       "      <td>34084 906385</td>\n",
       "      <td>NaN</td>\n",
       "      <td>769062.0</td>\n",
       "      <td>NaN</td>\n",
       "      <td>n126.000 1175087 n318.000 1175087 n270.000 424566</td>\n",
       "      <td>769062</td>\n",
       "      <td>NaN</td>\n",
       "      <td>NaN</td>\n",
       "      <td>NaN</td>\n",
       "    </tr>\n",
       "    <tr>\n",
       "      <th>1</th>\n",
       "      <td>1</td>\n",
       "      <td>0</td>\n",
       "      <td>519769</td>\n",
       "      <td>342856 357845 784581 1297729 n12.000 908104</td>\n",
       "      <td>570014.0</td>\n",
       "      <td>1285872</td>\n",
       "      <td>1198079</td>\n",
       "      <td>0</td>\n",
       "      <td>522723</td>\n",
       "      <td>1035579</td>\n",
       "      <td>...</td>\n",
       "      <td>NaN</td>\n",
       "      <td>342856 357845</td>\n",
       "      <td>NaN</td>\n",
       "      <td>769062.0</td>\n",
       "      <td>784581</td>\n",
       "      <td>769062</td>\n",
       "      <td>769062</td>\n",
       "      <td>NaN</td>\n",
       "      <td>NaN</td>\n",
       "      <td>NaN</td>\n",
       "    </tr>\n",
       "    <tr>\n",
       "      <th>2</th>\n",
       "      <td>2</td>\n",
       "      <td>0</td>\n",
       "      <td>519769</td>\n",
       "      <td>981066 784581 1297729 n72.000 309206</td>\n",
       "      <td>554384.0</td>\n",
       "      <td>1285872</td>\n",
       "      <td>n48127524.000</td>\n",
       "      <td>1</td>\n",
       "      <td>175375</td>\n",
       "      <td>359636</td>\n",
       "      <td>...</td>\n",
       "      <td>NaN</td>\n",
       "      <td>981066</td>\n",
       "      <td>NaN</td>\n",
       "      <td>769062.0</td>\n",
       "      <td>784581</td>\n",
       "      <td>769062</td>\n",
       "      <td>769062</td>\n",
       "      <td>NaN</td>\n",
       "      <td>n48.000 655992</td>\n",
       "      <td>NaN</td>\n",
       "    </tr>\n",
       "    <tr>\n",
       "      <th>3</th>\n",
       "      <td>3</td>\n",
       "      <td>0</td>\n",
       "      <td>519769</td>\n",
       "      <td>551560 237874 971646 n228.000 1175087 n144.000...</td>\n",
       "      <td>1135782.0</td>\n",
       "      <td>1285872</td>\n",
       "      <td>n26748.000</td>\n",
       "      <td>0</td>\n",
       "      <td>219437</td>\n",
       "      <td>857861</td>\n",
       "      <td>...</td>\n",
       "      <td>NaN</td>\n",
       "      <td>551560 237874 971646</td>\n",
       "      <td>NaN</td>\n",
       "      <td>769062.0</td>\n",
       "      <td>370498</td>\n",
       "      <td>n228.000 1175087 n144.000 1175087 n96.000 424566</td>\n",
       "      <td>769062</td>\n",
       "      <td>NaN</td>\n",
       "      <td>NaN</td>\n",
       "      <td>NaN</td>\n",
       "    </tr>\n",
       "    <tr>\n",
       "      <th>4</th>\n",
       "      <td>4</td>\n",
       "      <td>0</td>\n",
       "      <td>519769</td>\n",
       "      <td>581542 370498 1297729 n12.000 908104</td>\n",
       "      <td>906315.0</td>\n",
       "      <td>1285872</td>\n",
       "      <td>n350760.000</td>\n",
       "      <td>0</td>\n",
       "      <td>449783 753764</td>\n",
       "      <td>377300</td>\n",
       "      <td>...</td>\n",
       "      <td>NaN</td>\n",
       "      <td>581542</td>\n",
       "      <td>NaN</td>\n",
       "      <td>769062.0</td>\n",
       "      <td>370498</td>\n",
       "      <td>769062</td>\n",
       "      <td>769062</td>\n",
       "      <td>NaN</td>\n",
       "      <td>NaN</td>\n",
       "      <td>NaN</td>\n",
       "    </tr>\n",
       "  </tbody>\n",
       "</table>\n",
       "<p>5 rows × 33 columns</p>\n",
       "</div>"
      ],
      "text/plain": [
       "   Unnamed: 0  categoryid     159  \\\n",
       "0           0           0  519769   \n",
       "1           1           0  519769   \n",
       "2           2           0  519769   \n",
       "3           3           0  519769   \n",
       "4           4           0  519769   \n",
       "\n",
       "                                                 888        776      764  \\\n",
       "0  34084 906385 n126.000 1175087 n318.000 1175087...    98587.0  1285872   \n",
       "1        342856 357845 784581 1297729 n12.000 908104   570014.0  1285872   \n",
       "2               981066 784581 1297729 n72.000 309206   554384.0  1285872   \n",
       "3  551560 237874 971646 n228.000 1175087 n144.000...  1135782.0  1285872   \n",
       "4               581542 370498 1297729 n12.000 908104   906315.0  1285872   \n",
       "\n",
       "             917  available             678      364  ...  325  \\\n",
       "0    n863064.000          0  479758 1021001   691063  ...  NaN   \n",
       "1        1198079          0          522723  1035579  ...  NaN   \n",
       "2  n48127524.000          1          175375   359636  ...  NaN   \n",
       "3     n26748.000          0          219437   857861  ...  NaN   \n",
       "4    n350760.000          0   449783 753764   377300  ...  NaN   \n",
       "\n",
       "                    202 476       550     713  \\\n",
       "0          34084 906385 NaN  769062.0     NaN   \n",
       "1         342856 357845 NaN  769062.0  784581   \n",
       "2                981066 NaN  769062.0  784581   \n",
       "3  551560 237874 971646 NaN  769062.0  370498   \n",
       "4                581542 NaN  769062.0  370498   \n",
       "\n",
       "                                                 810     928  206  \\\n",
       "0  n126.000 1175087 n318.000 1175087 n270.000 424566  769062  NaN   \n",
       "1                                             769062  769062  NaN   \n",
       "2                                             769062  769062  NaN   \n",
       "3   n228.000 1175087 n144.000 1175087 n96.000 424566  769062  NaN   \n",
       "4                                             769062  769062  NaN   \n",
       "\n",
       "             1097  674  \n",
       "0             NaN  NaN  \n",
       "1             NaN  NaN  \n",
       "2  n48.000 655992  NaN  \n",
       "3             NaN  NaN  \n",
       "4             NaN  NaN  \n",
       "\n",
       "[5 rows x 33 columns]"
      ]
     },
     "execution_count": 29,
     "metadata": {},
     "output_type": "execute_result"
    }
   ],
   "source": [
    "pd.read_csv(\"categories/0.csv\")[:5]"
   ]
  },
  {
   "cell_type": "markdown",
   "metadata": {},
   "source": [
    "### Property data types\n",
    "\n",
    "- numerical (fields containing prefix `n`)\n",
    "- textual (stemmed and hashed)\n",
    "- optional (some items have no value)\n",
    "- categorical (or just one-word textual?)"
   ]
  },
  {
   "cell_type": "code",
   "execution_count": 12,
   "metadata": {},
   "outputs": [
    {
     "name": "stderr",
     "output_type": "stream",
     "text": [
      "/var/folders/4j/k6p815nn26qdqyb7mm98_vd40000gn/T/ipykernel_43334/2533068173.py:10: DtypeWarning: Columns (10,17,18,32,33,34,39,49,54,57,58,60) have mixed types. Specify dtype option on import or set low_memory=False.\n",
      "  df = pd.read_csv(f\"categories/{category}.csv\")\n",
      "/var/folders/4j/k6p815nn26qdqyb7mm98_vd40000gn/T/ipykernel_43334/2533068173.py:10: DtypeWarning: Columns (19,50,51,64,69) have mixed types. Specify dtype option on import or set low_memory=False.\n",
      "  df = pd.read_csv(f\"categories/{category}.csv\")\n"
     ]
    }
   ],
   "source": [
    "item_properties = properties[\"property\"].unique()\n",
    "numerical = {\n",
    "    property: True for property in item_properties\n",
    "}\n",
    "optional = {\n",
    "    property: False for property in item_properties\n",
    "}\n",
    "\n",
    "for category, _ in category_properties.items():\n",
    "    df = pd.read_csv(f\"categories/{category}.csv\")\n",
    "    for column in df.columns[1:]:\n",
    "        if column == \"itemid\":\n",
    "            continue\n",
    "        numerical[column] &= (df[column].dtype == object) and df[column].str.startswith(\"n\").all()\n",
    "        optional[column] |= pd.isna(df[column]).any()\n"
   ]
  },
  {
   "cell_type": "markdown",
   "metadata": {},
   "source": [
    "`numerical` and `optional` are dictionaries containing (`property`, `value`) pairs, wehere `value` is `True` if corresponding `property` is a numerical, resp. optional. property."
   ]
  },
  {
   "cell_type": "code",
   "execution_count": 13,
   "metadata": {},
   "outputs": [
    {
     "data": {
      "text/plain": [
       "71"
      ]
     },
     "execution_count": 13,
     "metadata": {},
     "output_type": "execute_result"
    }
   ],
   "source": [
    "sum(numerical.values())"
   ]
  },
  {
   "cell_type": "markdown",
   "metadata": {},
   "source": [
    "There are 71 numerical properties in the dataset."
   ]
  },
  {
   "cell_type": "code",
   "execution_count": 15,
   "metadata": {},
   "outputs": [
    {
     "data": {
      "text/plain": [
       "1033"
      ]
     },
     "execution_count": 15,
     "metadata": {},
     "output_type": "execute_result"
    }
   ],
   "source": [
    "sum(optional.values())"
   ]
  },
  {
   "cell_type": "markdown",
   "metadata": {},
   "source": [
    "There are 1033 optional properties in the dataset."
   ]
  },
  {
   "cell_type": "code",
   "execution_count": 14,
   "metadata": {},
   "outputs": [],
   "source": [
    "props = set(item_properties)\n",
    "numerical_props = set([category for category, result in numerical.items() if result])\n",
    "optional_props = set([category for category, result in optional.items() if result])"
   ]
  },
  {
   "cell_type": "code",
   "execution_count": 16,
   "metadata": {},
   "outputs": [
    {
     "name": "stdout",
     "output_type": "stream",
     "text": [
      "{'282', '674', '203', '472', '1075', '762', '650', '703', '870', '246', '1100', '279', '288', '482', '1005', '700', '221', '1018', '1063', '389', '874', '900', '211', '261', '626', '532', '4', '239', '923', '881', '790', '367', '778', '75', '943', '622', '1091', '218', '1039', '424', '598', '677', '383', '641', '967', '1072', '244', '568', '699', '615', '18', '633', '255', '877', '782', '861', '37', '443', '495', '241', '191', '162', '791', '299', '150', '1082', '331', '685', '878', '289', '381'}\n"
     ]
    }
   ],
   "source": [
    "print(numerical_props)"
   ]
  },
  {
   "cell_type": "code",
   "execution_count": 17,
   "metadata": {},
   "outputs": [
    {
     "name": "stdout",
     "output_type": "stream",
     "text": [
      "{'70', '665', '744', 'categoryid', '179', '283', '517', '902', '1009', '81', '47', '1030', '977', '318', '634', '1046', '91', '394', '740', '159', '599', '144', '522', '261', '1078', '417', '242', '764', '1019', '57', '112', '587', '198', '923', '60', '17', '364', '1014', '790', '881', '644', '424', '1091', '557', '396', '407', 'available', '514', '1072', '244', '890', '488', '358', '1083', '1093', '888', '498', '27', '754', '196', '439', '1062', '774', '490', '368', '69', '828', '834', '442', '624', '685'}\n"
     ]
    }
   ],
   "source": [
    "print(props - optional_props)"
   ]
  },
  {
   "cell_type": "code",
   "execution_count": 18,
   "metadata": {},
   "outputs": [
    {
     "name": "stdout",
     "output_type": "stream",
     "text": [
      "{'424', '1091', '261', '1072', '244', '923', '685', '881', '790'}\n"
     ]
    }
   ],
   "source": [
    "print(set.intersection(numerical_props, props - optional_props))"
   ]
  },
  {
   "cell_type": "code",
   "execution_count": 19,
   "metadata": {},
   "outputs": [
    {
     "name": "stdout",
     "output_type": "stream",
     "text": [
      "{'282', '203', '674', '1075', '762', '650', '703', '870', '1100', '246', '288', '279', '1005', '482', '700', '221', '1018', '1063', '389', '874', '900', '211', '626', '532', '4', '239', '367', '778', '75', '943', '622', '1039', '218', '598', '677', '878', '383', '641', '967', '568', '699', '615', '18', '633', '255', '877', '782', '861', '37', '495', '241', '191', '162', '791', '299', '150', '1082', '331', '472', '443', '289', '381'}\n"
     ]
    }
   ],
   "source": [
    "print(set.intersection(numerical_props, optional_props))"
   ]
  },
  {
   "cell_type": "code",
   "execution_count": 20,
   "metadata": {},
   "outputs": [],
   "source": [
    "cat_num_props = {}\n",
    "for category, cat_props in category_properties.items():\n",
    "    cat_num_props[category] = set.intersection(set(cat_props), numerical_props)"
   ]
  },
  {
   "cell_type": "code",
   "execution_count": 21,
   "metadata": {},
   "outputs": [
    {
     "name": "stdout",
     "output_type": "stream",
     "text": [
      "Category 1305 contains 9 numerical properties: {'778', '282', '877', '1063', '443', '241', '641', '699', '790'}\n",
      "Category 1403 contains 7 numerical properties: {'782', '598', '383', '331', '699', '790', '367'}\n",
      "Category  985 contains 7 numerical properties: {'381', '203', '861', '677', '1100', '790', '482'}\n",
      "Category 1554 contains 7 numerical properties: {'18', '255', '37', '211', '472', '289', '790'}\n",
      "Category  522 contains 7 numerical properties: {'700', '633', '1039', '261', '4', '1072', '790'}\n"
     ]
    }
   ],
   "source": [
    "for cat, num_props in list(sorted(cat_num_props.items(), key=lambda x: -len(x[1])))[:5]:\n",
    "    print(f\"Category {cat:>4} contains {len(num_props)} numerical properties: {num_props}\")"
   ]
  },
  {
   "cell_type": "markdown",
   "metadata": {},
   "source": [
    "The categories above contain the most numerical properties among all categories."
   ]
  },
  {
   "cell_type": "code",
   "execution_count": 30,
   "metadata": {},
   "outputs": [
    {
     "name": "stdout",
     "output_type": "stream",
     "text": [
      "{'70', '665', '744', 'categoryid', '179', '283', '517', '902', '1009', '81', '47', '1030', '318', '634', '1046', '91', '394', '740', '159', '599', '144', '522', '1078', '417', '242', '764', '1019', '57', '112', '587', '198', '624', '60', '17', '364', '1014', '644', '396', '557', '407', 'available', '514', '488', '890', '358', '1083', '1093', '888', '498', '27', '754', '196', '439', '1062', '774', '490', '368', '69', '828', '834', '442', '977'}\n"
     ]
    }
   ],
   "source": [
    "print(set.intersection(props - optional_props, props - numerical_props))"
   ]
  },
  {
   "cell_type": "code",
   "execution_count": 31,
   "metadata": {},
   "outputs": [
    {
     "name": "stdout",
     "output_type": "stream",
     "text": [
      "{'categoryid', '159', 'available', '283', '764', '112', '364', '888'}\n"
     ]
    }
   ],
   "source": [
    "print(set.intersection(props - optional_props, props - numerical_props, common_properties))"
   ]
  },
  {
   "cell_type": "markdown",
   "metadata": {},
   "source": [
    "The properties above are non-optional, non-numerical properties, that have values in all categories."
   ]
  },
  {
   "cell_type": "code",
   "execution_count": 32,
   "metadata": {},
   "outputs": [],
   "source": [
    "common_textual_properties = set.intersection(props - optional_props, props - numerical_props, common_properties)\n",
    "lengths = {}\n",
    "for prop in common_textual_properties:\n",
    "    if prop in {\"categoryid\", \"available\"}:\n",
    "        continue\n",
    "    lengths[prop] = properties[\n",
    "        (properties[\"property\"] == prop)\n",
    "    ][\"value\"].apply(len).mean()"
   ]
  },
  {
   "cell_type": "code",
   "execution_count": 36,
   "metadata": {},
   "outputs": [
    {
     "data": {
      "text/plain": [
       "{'283': 131.89874945390088,\n",
       " '888': 34.985753223405695,\n",
       " '764': 7.0,\n",
       " '364': 6.170133015450611,\n",
       " '159': 6.0,\n",
       " '112': 6.0,\n",
       " 'categoryid': 3.4388655872643725,\n",
       " 'available': 1.0}"
      ]
     },
     "execution_count": 36,
     "metadata": {},
     "output_type": "execute_result"
    }
   ],
   "source": [
    "dict(sorted(lengths.items(), key=lambda x: -x[1]))"
   ]
  },
  {
   "cell_type": "markdown",
   "metadata": {},
   "source": [
    "The textual property with the longest average value is property `283`, which could represent the item's description.\n",
    "\n",
    "The second longest property is property `888`. 35 characters is approximately 5 words (a word is typically encoded 6- or 7-digit hash number), this could be the item's name, because the following property contains only one word on average."
   ]
  }
 ],
 "metadata": {
  "kernelspec": {
   "display_name": "Python 3.10.6 ('Thesis')",
   "language": "python",
   "name": "python3"
  },
  "language_info": {
   "codemirror_mode": {
    "name": "ipython",
    "version": 3
   },
   "file_extension": ".py",
   "mimetype": "text/x-python",
   "name": "python",
   "nbconvert_exporter": "python",
   "pygments_lexer": "ipython3",
   "version": "3.10.6"
  },
  "orig_nbformat": 4,
  "vscode": {
   "interpreter": {
    "hash": "b0c093709e38220a1490c81b1b3cea994033d0e3cf39a06db777c8ccdd281880"
   }
  }
 },
 "nbformat": 4,
 "nbformat_minor": 2
}
